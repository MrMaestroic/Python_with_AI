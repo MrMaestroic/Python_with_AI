{
 "cells": [
  {
   "cell_type": "markdown",
   "id": "3689f3ca",
   "metadata": {},
   "source": [
    "# Regular Expression\n",
    "- start with ^ and ends with $"
   ]
  },
  {
   "cell_type": "code",
   "execution_count": 1,
   "id": "2d108e66",
   "metadata": {},
   "outputs": [
    {
     "ename": "SyntaxError",
     "evalue": "invalid syntax (Temp/ipykernel_12460/1372446166.py, line 2)",
     "output_type": "error",
     "traceback": [
      "\u001b[1;36m  File \u001b[1;32m\"C:\\Users\\user9\\AppData\\Local\\Temp/ipykernel_12460/1372446166.py\"\u001b[1;36m, line \u001b[1;32m2\u001b[0m\n\u001b[1;33m    - ^[a-z]{5}$\u001b[0m\n\u001b[1;37m      ^\u001b[0m\n\u001b[1;31mSyntaxError\u001b[0m\u001b[1;31m:\u001b[0m invalid syntax\n"
     ]
    }
   ],
   "source": [
    "# to validate 5 lowe case characters\n",
    "- ^[a-z]{5}$\n",
    "# to validate 5 upper  case characters\n",
    "- ^[A-Z]{5}$\n",
    "# to validate 5 upper and lower case characters\n",
    "- ^[a-zA-Z]{5}$"
   ]
  },
  {
   "cell_type": "code",
   "execution_count": 11,
   "id": "d8d48699",
   "metadata": {},
   "outputs": [
    {
     "data": {
      "text/plain": [
       "True"
      ]
     },
     "execution_count": 11,
     "metadata": {},
     "output_type": "execute_result"
    }
   ],
   "source": [
    "# Test 4 digits numbers\n",
    "import re\n",
    "def digit(n):\n",
    "    pattern=\"^[0-9]{4}$\"\n",
    "    n=str(n)\n",
    "    if re.match(pattern,n):\n",
    "        return True\n",
    "    return False\n",
    "digit (3242)"
   ]
  },
  {
   "cell_type": "code",
   "execution_count": 3,
   "id": "bfdd9bff",
   "metadata": {},
   "outputs": [
    {
     "data": {
      "text/plain": [
       "False"
      ]
     },
     "execution_count": 3,
     "metadata": {},
     "output_type": "execute_result"
    }
   ],
   "source": [
    "digit(3561236)"
   ]
  },
  {
   "cell_type": "code",
   "execution_count": 10,
   "id": "c347b0f2",
   "metadata": {},
   "outputs": [
    {
     "data": {
      "text/plain": [
       "True"
      ]
     },
     "execution_count": 10,
     "metadata": {},
     "output_type": "execute_result"
    }
   ],
   "source": [
    "def deg(n):\n",
    "    pattern=\"^[0-9]{9}$\"\n",
    "    n=str(n)\n",
    "    if re.match(pattern,n):\n",
    "        return True\n",
    "    return False\n",
    "deg(324234823)"
   ]
  },
  {
   "cell_type": "code",
   "execution_count": 12,
   "id": "62f30662",
   "metadata": {},
   "outputs": [
    {
     "data": {
      "text/plain": [
       "True"
      ]
     },
     "execution_count": 12,
     "metadata": {},
     "output_type": "execute_result"
    }
   ],
   "source": [
    "digit(4390)"
   ]
  },
  {
   "cell_type": "code",
   "execution_count": 15,
   "id": "602c940f",
   "metadata": {},
   "outputs": [
    {
     "data": {
      "text/plain": [
       "True"
      ]
     },
     "execution_count": 15,
     "metadata": {},
     "output_type": "execute_result"
    }
   ],
   "source": [
    "# username\n",
    "def username(x):\n",
    "    pattern=\"[a-zA-z]{8}$\"\n",
    "    if re.match(pattern,x):\n",
    "        return True\n",
    "    return False\n",
    "username(\"VVSVamsi\")"
   ]
  },
  {
   "cell_type": "code",
   "execution_count": 20,
   "id": "e518505f",
   "metadata": {},
   "outputs": [
    {
     "data": {
      "text/plain": [
       "True"
      ]
     },
     "execution_count": 20,
     "metadata": {},
     "output_type": "execute_result"
    }
   ],
   "source": [
    "#Indian numbers\n",
    "def indianmobile(n):\n",
    "    pattern=\"^[7-9][0-9]{9}$|^[0][7-9][0-9]{9}$|^[+][9][1][7-9][0-9]{9}$\"\n",
    "    if re.match(pattern,n):\n",
    "        return True\n",
    "    return False\n",
    "indianmobile(\"9849940131\")"
   ]
  },
  {
   "cell_type": "code",
   "execution_count": 19,
   "id": "82176a61",
   "metadata": {},
   "outputs": [
    {
     "data": {
      "text/plain": [
       "True"
      ]
     },
     "execution_count": 19,
     "metadata": {},
     "output_type": "execute_result"
    }
   ],
   "source": [
    "indianmobile(\"09849940131\")"
   ]
  },
  {
   "cell_type": "code",
   "execution_count": 21,
   "id": "f5f37718",
   "metadata": {},
   "outputs": [
    {
     "data": {
      "text/plain": [
       "True"
      ]
     },
     "execution_count": 21,
     "metadata": {},
     "output_type": "execute_result"
    }
   ],
   "source": [
    "indianmobile(\"+919849940131\")"
   ]
  },
  {
   "cell_type": "code",
   "execution_count": 24,
   "id": "b45aca81",
   "metadata": {},
   "outputs": [
    {
     "data": {
      "text/plain": [
       "True"
      ]
     },
     "execution_count": 24,
     "metadata": {},
     "output_type": "execute_result"
    }
   ],
   "source": [
    "# college id\n",
    "def collegeid(n):\n",
    "    pattern=\"^[1-2][0-9][6][F][1-5][A][0][0-9]{3}$\"\n",
    "    if re.match(pattern,n):\n",
    "        return True\n",
    "    return False\n",
    "collegeid(\"196F1A0402\")\n"
   ]
  },
  {
   "cell_type": "code",
   "execution_count": 25,
   "id": "03bda8aa",
   "metadata": {},
   "outputs": [
    {
     "data": {
      "text/plain": [
       "True"
      ]
     },
     "execution_count": 25,
     "metadata": {},
     "output_type": "execute_result"
    }
   ],
   "source": [
    "collegeid(\"206F5A0402\")"
   ]
  },
  {
   "cell_type": "code",
   "execution_count": 32,
   "id": "7daf6321",
   "metadata": {},
   "outputs": [
    {
     "data": {
      "text/plain": [
       "True"
      ]
     },
     "execution_count": 32,
     "metadata": {},
     "output_type": "execute_result"
    }
   ],
   "source": [
    "# college id FOR ALL\n",
    "def jntuk(n):\n",
    "    pattern=\"^[0-9A-Z]{10}$\"\n",
    "    if re.match(pattern,n):\n",
    "        return True\n",
    "    return False\n",
    "jntuk(\"196F1A0402\")\n"
   ]
  },
  {
   "cell_type": "code",
   "execution_count": 29,
   "id": "40157555",
   "metadata": {},
   "outputs": [
    {
     "data": {
      "text/plain": [
       "True"
      ]
     },
     "execution_count": 29,
     "metadata": {},
     "output_type": "execute_result"
    }
   ],
   "source": [
    "collegeid(\"196F1A0504\")"
   ]
  },
  {
   "cell_type": "code",
   "execution_count": 43,
   "id": "768fc562",
   "metadata": {},
   "outputs": [
    {
     "data": {
      "text/plain": [
       "True"
      ]
     },
     "execution_count": 43,
     "metadata": {},
     "output_type": "execute_result"
    }
   ],
   "source": [
    "#EXPRESSION FOR EMAIL ID\n",
    "def mail(n):\n",
    "    pattern=\"^[a-z]{6}[.][a-z0-9]{7}[@][a-z]{5}[.][a-z]{3}$\"\n",
    "    if re.match(pattern,n):\n",
    "        return True\n",
    "    return False\n",
    "mail(\"dharan.vamsi33@gmail.com\")\n"
   ]
  },
  {
   "cell_type": "code",
   "execution_count": 48,
   "id": "ec1c8f90",
   "metadata": {},
   "outputs": [
    {
     "data": {
      "text/plain": [
       "True"
      ]
     },
     "execution_count": 48,
     "metadata": {},
     "output_type": "execute_result"
    }
   ],
   "source": [
    "#EXPRESSION FOR EMAIL ID\n",
    "def mail(n):\n",
    "    pattern=\"^[a-z0-9]{3,15}[@][a-z]{5,8}[.][a-z]{3}$\"\n",
    "    if re.match(pattern,n):\n",
    "        return True\n",
    "    return False\n",
    "mail(\"dharanvamsi33@gmail.com\")\n"
   ]
  },
  {
   "cell_type": "markdown",
   "id": "adc96c1a",
   "metadata": {},
   "source": [
    "# packages and modules\n",
    "- modules\n",
    " - single python file contains set of functions\n",
    "- Packages\n",
    " - collections of modules\n",
    " "
   ]
  },
  {
   "cell_type": "code",
   "execution_count": 49,
   "id": "97e27982",
   "metadata": {},
   "outputs": [],
   "source": [
    "import math"
   ]
  },
  {
   "cell_type": "code",
   "execution_count": 51,
   "id": "f64db4ad",
   "metadata": {},
   "outputs": [
    {
     "name": "stdout",
     "output_type": "stream",
     "text": [
      "Help on built-in module math:\n",
      "\n",
      "NAME\n",
      "    math\n",
      "\n",
      "DESCRIPTION\n",
      "    This module provides access to the mathematical functions\n",
      "    defined by the C standard.\n",
      "\n",
      "FUNCTIONS\n",
      "    acos(x, /)\n",
      "        Return the arc cosine (measured in radians) of x.\n",
      "        \n",
      "        The result is between 0 and pi.\n",
      "    \n",
      "    acosh(x, /)\n",
      "        Return the inverse hyperbolic cosine of x.\n",
      "    \n",
      "    asin(x, /)\n",
      "        Return the arc sine (measured in radians) of x.\n",
      "        \n",
      "        The result is between -pi/2 and pi/2.\n",
      "    \n",
      "    asinh(x, /)\n",
      "        Return the inverse hyperbolic sine of x.\n",
      "    \n",
      "    atan(x, /)\n",
      "        Return the arc tangent (measured in radians) of x.\n",
      "        \n",
      "        The result is between -pi/2 and pi/2.\n",
      "    \n",
      "    atan2(y, x, /)\n",
      "        Return the arc tangent (measured in radians) of y/x.\n",
      "        \n",
      "        Unlike atan(y/x), the signs of both x and y are considered.\n",
      "    \n",
      "    atanh(x, /)\n",
      "        Return the inverse hyperbolic tangent of x.\n",
      "    \n",
      "    ceil(x, /)\n",
      "        Return the ceiling of x as an Integral.\n",
      "        \n",
      "        This is the smallest integer >= x.\n",
      "    \n",
      "    comb(n, k, /)\n",
      "        Number of ways to choose k items from n items without repetition and without order.\n",
      "        \n",
      "        Evaluates to n! / (k! * (n - k)!) when k <= n and evaluates\n",
      "        to zero when k > n.\n",
      "        \n",
      "        Also called the binomial coefficient because it is equivalent\n",
      "        to the coefficient of k-th term in polynomial expansion of the\n",
      "        expression (1 + x)**n.\n",
      "        \n",
      "        Raises TypeError if either of the arguments are not integers.\n",
      "        Raises ValueError if either of the arguments are negative.\n",
      "    \n",
      "    copysign(x, y, /)\n",
      "        Return a float with the magnitude (absolute value) of x but the sign of y.\n",
      "        \n",
      "        On platforms that support signed zeros, copysign(1.0, -0.0)\n",
      "        returns -1.0.\n",
      "    \n",
      "    cos(x, /)\n",
      "        Return the cosine of x (measured in radians).\n",
      "    \n",
      "    cosh(x, /)\n",
      "        Return the hyperbolic cosine of x.\n",
      "    \n",
      "    degrees(x, /)\n",
      "        Convert angle x from radians to degrees.\n",
      "    \n",
      "    dist(p, q, /)\n",
      "        Return the Euclidean distance between two points p and q.\n",
      "        \n",
      "        The points should be specified as sequences (or iterables) of\n",
      "        coordinates.  Both inputs must have the same dimension.\n",
      "        \n",
      "        Roughly equivalent to:\n",
      "            sqrt(sum((px - qx) ** 2.0 for px, qx in zip(p, q)))\n",
      "    \n",
      "    erf(x, /)\n",
      "        Error function at x.\n",
      "    \n",
      "    erfc(x, /)\n",
      "        Complementary error function at x.\n",
      "    \n",
      "    exp(x, /)\n",
      "        Return e raised to the power of x.\n",
      "    \n",
      "    expm1(x, /)\n",
      "        Return exp(x)-1.\n",
      "        \n",
      "        This function avoids the loss of precision involved in the direct evaluation of exp(x)-1 for small x.\n",
      "    \n",
      "    fabs(x, /)\n",
      "        Return the absolute value of the float x.\n",
      "    \n",
      "    factorial(x, /)\n",
      "        Find x!.\n",
      "        \n",
      "        Raise a ValueError if x is negative or non-integral.\n",
      "    \n",
      "    floor(x, /)\n",
      "        Return the floor of x as an Integral.\n",
      "        \n",
      "        This is the largest integer <= x.\n",
      "    \n",
      "    fmod(x, y, /)\n",
      "        Return fmod(x, y), according to platform C.\n",
      "        \n",
      "        x % y may differ.\n",
      "    \n",
      "    frexp(x, /)\n",
      "        Return the mantissa and exponent of x, as pair (m, e).\n",
      "        \n",
      "        m is a float and e is an int, such that x = m * 2.**e.\n",
      "        If x is 0, m and e are both 0.  Else 0.5 <= abs(m) < 1.0.\n",
      "    \n",
      "    fsum(seq, /)\n",
      "        Return an accurate floating point sum of values in the iterable seq.\n",
      "        \n",
      "        Assumes IEEE-754 floating point arithmetic.\n",
      "    \n",
      "    gamma(x, /)\n",
      "        Gamma function at x.\n",
      "    \n",
      "    gcd(*integers)\n",
      "        Greatest Common Divisor.\n",
      "    \n",
      "    hypot(...)\n",
      "        hypot(*coordinates) -> value\n",
      "        \n",
      "        Multidimensional Euclidean distance from the origin to a point.\n",
      "        \n",
      "        Roughly equivalent to:\n",
      "            sqrt(sum(x**2 for x in coordinates))\n",
      "        \n",
      "        For a two dimensional point (x, y), gives the hypotenuse\n",
      "        using the Pythagorean theorem:  sqrt(x*x + y*y).\n",
      "        \n",
      "        For example, the hypotenuse of a 3/4/5 right triangle is:\n",
      "        \n",
      "            >>> hypot(3.0, 4.0)\n",
      "            5.0\n",
      "    \n",
      "    isclose(a, b, *, rel_tol=1e-09, abs_tol=0.0)\n",
      "        Determine whether two floating point numbers are close in value.\n",
      "        \n",
      "          rel_tol\n",
      "            maximum difference for being considered \"close\", relative to the\n",
      "            magnitude of the input values\n",
      "          abs_tol\n",
      "            maximum difference for being considered \"close\", regardless of the\n",
      "            magnitude of the input values\n",
      "        \n",
      "        Return True if a is close in value to b, and False otherwise.\n",
      "        \n",
      "        For the values to be considered close, the difference between them\n",
      "        must be smaller than at least one of the tolerances.\n",
      "        \n",
      "        -inf, inf and NaN behave similarly to the IEEE 754 Standard.  That\n",
      "        is, NaN is not close to anything, even itself.  inf and -inf are\n",
      "        only close to themselves.\n",
      "    \n",
      "    isfinite(x, /)\n",
      "        Return True if x is neither an infinity nor a NaN, and False otherwise.\n",
      "    \n",
      "    isinf(x, /)\n",
      "        Return True if x is a positive or negative infinity, and False otherwise.\n",
      "    \n",
      "    isnan(x, /)\n",
      "        Return True if x is a NaN (not a number), and False otherwise.\n",
      "    \n",
      "    isqrt(n, /)\n",
      "        Return the integer part of the square root of the input.\n",
      "    \n",
      "    lcm(*integers)\n",
      "        Least Common Multiple.\n",
      "    \n",
      "    ldexp(x, i, /)\n",
      "        Return x * (2**i).\n",
      "        \n",
      "        This is essentially the inverse of frexp().\n",
      "    \n",
      "    lgamma(x, /)\n",
      "        Natural logarithm of absolute value of Gamma function at x.\n",
      "    \n",
      "    log(...)\n",
      "        log(x, [base=math.e])\n",
      "        Return the logarithm of x to the given base.\n",
      "        \n",
      "        If the base not specified, returns the natural logarithm (base e) of x.\n",
      "    \n",
      "    log10(x, /)\n",
      "        Return the base 10 logarithm of x.\n",
      "    \n",
      "    log1p(x, /)\n",
      "        Return the natural logarithm of 1+x (base e).\n",
      "        \n",
      "        The result is computed in a way which is accurate for x near zero.\n",
      "    \n",
      "    log2(x, /)\n",
      "        Return the base 2 logarithm of x.\n",
      "    \n",
      "    modf(x, /)\n",
      "        Return the fractional and integer parts of x.\n",
      "        \n",
      "        Both results carry the sign of x and are floats.\n",
      "    \n",
      "    nextafter(x, y, /)\n",
      "        Return the next floating-point value after x towards y.\n",
      "    \n",
      "    perm(n, k=None, /)\n",
      "        Number of ways to choose k items from n items without repetition and with order.\n",
      "        \n",
      "        Evaluates to n! / (n - k)! when k <= n and evaluates\n",
      "        to zero when k > n.\n",
      "        \n",
      "        If k is not specified or is None, then k defaults to n\n",
      "        and the function returns n!.\n",
      "        \n",
      "        Raises TypeError if either of the arguments are not integers.\n",
      "        Raises ValueError if either of the arguments are negative.\n",
      "    \n",
      "    pow(x, y, /)\n",
      "        Return x**y (x to the power of y).\n",
      "    \n",
      "    prod(iterable, /, *, start=1)\n",
      "        Calculate the product of all the elements in the input iterable.\n",
      "        \n",
      "        The default start value for the product is 1.\n",
      "        \n",
      "        When the iterable is empty, return the start value.  This function is\n",
      "        intended specifically for use with numeric values and may reject\n",
      "        non-numeric types.\n",
      "    \n",
      "    radians(x, /)\n",
      "        Convert angle x from degrees to radians.\n",
      "    \n",
      "    remainder(x, y, /)\n",
      "        Difference between x and the closest integer multiple of y.\n",
      "        \n",
      "        Return x - n*y where n*y is the closest integer multiple of y.\n",
      "        In the case where x is exactly halfway between two multiples of\n",
      "        y, the nearest even value of n is used. The result is always exact.\n",
      "    \n",
      "    sin(x, /)\n",
      "        Return the sine of x (measured in radians).\n",
      "    \n",
      "    sinh(x, /)\n",
      "        Return the hyperbolic sine of x.\n",
      "    \n",
      "    sqrt(x, /)\n",
      "        Return the square root of x.\n",
      "    \n",
      "    tan(x, /)\n",
      "        Return the tangent of x (measured in radians).\n",
      "    \n",
      "    tanh(x, /)\n",
      "        Return the hyperbolic tangent of x.\n",
      "    \n",
      "    trunc(x, /)\n",
      "        Truncates the Real x to the nearest Integral toward 0.\n",
      "        \n",
      "        Uses the __trunc__ magic method.\n",
      "    \n",
      "    ulp(x, /)\n",
      "        Return the value of the least significant bit of the float x.\n",
      "\n",
      "DATA\n",
      "    e = 2.718281828459045\n",
      "    inf = inf\n",
      "    nan = nan\n",
      "    pi = 3.141592653589793\n",
      "    tau = 6.283185307179586\n",
      "\n",
      "FILE\n",
      "    (built-in)\n",
      "\n",
      "\n"
     ]
    }
   ],
   "source": [
    "help (math)"
   ]
  },
  {
   "cell_type": "code",
   "execution_count": 53,
   "id": "4f5b4d3f",
   "metadata": {},
   "outputs": [
    {
     "name": "stdout",
     "output_type": "stream",
     "text": [
      "1\n"
     ]
    }
   ],
   "source": [
    "#floor\n",
    "import math as a\n",
    "print(a.floor(1.5))"
   ]
  },
  {
   "cell_type": "code",
   "execution_count": 55,
   "id": "98545b6c",
   "metadata": {},
   "outputs": [
    {
     "name": "stdout",
     "output_type": "stream",
     "text": [
      "4.0\n",
      "4096.0\n"
     ]
    }
   ],
   "source": [
    "# power\n",
    "print(a.pow(2,2))\n",
    "print(a.pow(2,12))"
   ]
  },
  {
   "cell_type": "code",
   "execution_count": 56,
   "id": "bae06899",
   "metadata": {},
   "outputs": [
    {
     "name": "stdout",
     "output_type": "stream",
     "text": [
      "254.46900494077323\n"
     ]
    }
   ],
   "source": [
    "#area of circle\n",
    "# pie*r*r\n",
    "r=9\n",
    "pie=a.pi\n",
    "print(pie*r*r)"
   ]
  },
  {
   "cell_type": "code",
   "execution_count": 9,
   "id": "93341862",
   "metadata": {},
   "outputs": [],
   "source": [
    "#turtle\n",
    "# draw sqware\n",
    "import turtle as t\n",
    "turtle =t.Turtle()\n",
    "for i in range (4):\n",
    "    t.backward(100)\n",
    "    t.right(90)\n",
    "t.done()"
   ]
  },
  {
   "cell_type": "code",
   "execution_count": 17,
   "id": "695d5714",
   "metadata": {},
   "outputs": [],
   "source": [
    "#turtle\n",
    "# draw triangle\n",
    "import turtle as t\n",
    "turtle =t.Turtle()\n",
    "for i in range (3):\n",
    "    t.forward(100)\n",
    "    t.right(120)\n",
    "t.done()"
   ]
  },
  {
   "cell_type": "code",
   "execution_count": 28,
   "id": "30095ddb",
   "metadata": {},
   "outputs": [],
   "source": [
    "#turtle\n",
    "# draw triangle\n",
    "import turtle as t\n",
    "turtle =t.Turtle()\n",
    "for i in range (5):\n",
    "    t.forward(100)\n",
    "    t.right(70)\n",
    "t.done()"
   ]
  },
  {
   "cell_type": "code",
   "execution_count": 25,
   "id": "72254cbb",
   "metadata": {},
   "outputs": [],
   "source": [
    "#turtle\n",
    "# draw sqware\n",
    "import turtle as t\n",
    "turtle =t.Turtle()\n",
    "for i in range (4):\n",
    "    t.backward(100)\n",
    "    t.right(90)\n",
    "t.done()"
   ]
  },
  {
   "cell_type": "code",
   "execution_count": 32,
   "id": "c7902429",
   "metadata": {},
   "outputs": [],
   "source": [
    "#turtle\n",
    "# draw Rectangle\n",
    "import turtle as t\n",
    "turtle =t.Turtle()\n",
    "for i in range (2):\n",
    "    t.backward(100)\n",
    "    t.right(90)\n",
    "    t.backward(50)\n",
    "    t.right(90)\n",
    "t.done()"
   ]
  },
  {
   "cell_type": "code",
   "execution_count": 38,
   "id": "7f622951",
   "metadata": {},
   "outputs": [],
   "source": [
    "#turtle\n",
    "# draw triangle\n",
    "import turtle as t\n",
    "t.color(\"red\")\n",
    "turtle =t.Turtle()\n",
    "for i in range (6):\n",
    "    t.forward(100)\n",
    "    t.right(60)\n",
    "t.done()"
   ]
  },
  {
   "cell_type": "code",
   "execution_count": 40,
   "id": "24f2fc73",
   "metadata": {},
   "outputs": [],
   "source": [
    "#turtle\n",
    "# draw triangle\n",
    "import turtle as t\n",
    "turtle =t.Turtle()\n",
    "for i in range (8):\n",
    "    t.forward(100)\n",
    "    t.right(45)\n",
    "t.done()"
   ]
  },
  {
   "cell_type": "code",
   "execution_count": 50,
   "id": "fe0a7a78",
   "metadata": {},
   "outputs": [],
   "source": [
    "#star\n",
    "import turtle as t\n",
    "turtle =t.Turtle()\n",
    "t.speed(150)\n",
    "for i in range (50):\n",
    "    t.forward(i*10)\n",
    "    t.right(144)\n",
    "t.done()"
   ]
  },
  {
   "cell_type": "code",
   "execution_count": 46,
   "id": "3b678884",
   "metadata": {
    "scrolled": true
   },
   "outputs": [],
   "source": [
    "turtle=t.Turtle()\n",
    "t.speed(200)\n",
    "for i in range(360):\n",
    "    t.forward(1)\n",
    "    t.right(1)\n",
    "t.done()"
   ]
  },
  {
   "cell_type": "code",
   "execution_count": 56,
   "id": "1d0a6fbb",
   "metadata": {},
   "outputs": [],
   "source": [
    "#star\n",
    "import turtle as t\n",
    "turtle =t.Turtle()\n",
    "t.color(\"green\")\n",
    "t.speed(100)\n",
    "for i in range (1000):\n",
    "    t.forward(i)\n",
    "    t.right(91)\n",
    "t.done()"
   ]
  },
  {
   "cell_type": "code",
   "execution_count": null,
   "id": "83e32127",
   "metadata": {},
   "outputs": [],
   "source": []
  }
 ],
 "metadata": {
  "kernelspec": {
   "display_name": "Python 3 (ipykernel)",
   "language": "python",
   "name": "python3"
  },
  "language_info": {
   "codemirror_mode": {
    "name": "ipython",
    "version": 3
   },
   "file_extension": ".py",
   "mimetype": "text/x-python",
   "name": "python",
   "nbconvert_exporter": "python",
   "pygments_lexer": "ipython3",
   "version": "3.9.7"
  }
 },
 "nbformat": 4,
 "nbformat_minor": 5
}
