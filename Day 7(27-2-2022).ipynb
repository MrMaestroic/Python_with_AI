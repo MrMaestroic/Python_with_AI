{
 "cells": [
  {
   "cell_type": "code",
   "execution_count": 27,
   "id": "a3c15fd7",
   "metadata": {},
   "outputs": [
    {
     "name": "stdout",
     "output_type": "stream",
     "text": [
      "enter a number :123\n",
      "3 2 1 "
     ]
    }
   ],
   "source": [
    "# input:123\n",
    "a = int(input(\"enter a number :\"))\n",
    "while a!=0:\n",
    "    print(a%10,end=\" \")\n",
    "    a = a//10"
   ]
  },
  {
   "cell_type": "code",
   "execution_count": null,
   "id": "6427bae2",
   "metadata": {},
   "outputs": [],
   "source": [
    "# input:123\n",
    "# output:one two three\n",
    "b = int(input(\"enter a value :\"))\n",
    "while b!=0:\n",
    "    c = b%10\n",
    "    if c==0:\n",
    "        print(\"Zero\",end=\" \")\n",
    "    elif c==1:\n",
    "        print(\"one\",end=\" \")\n",
    "    elif c==2:\n",
    "        print(\"two\",end=\" \")\n",
    "    elif c==3:\n",
    "        print(\"three\",end=\" \")\n",
    "    b = b//10\n",
    "    \n",
    "    "
   ]
  },
  {
   "cell_type": "code",
   "execution_count": null,
   "id": "d9d04ac4",
   "metadata": {},
   "outputs": [],
   "source": [
    "pip install num2words"
   ]
  },
  {
   "cell_type": "code",
   "execution_count": null,
   "id": "ae430df7",
   "metadata": {},
   "outputs": [],
   "source": [
    "from num2words import num2words\n",
    "print(num2words(123))"
   ]
  },
  {
   "cell_type": "code",
   "execution_count": 4,
   "id": "0c8b126f",
   "metadata": {},
   "outputs": [
    {
     "name": "stdout",
     "output_type": "stream",
     "text": [
      "enter a value =10\n",
      "10 9 8 7 6 5 4 3 2 1 "
     ]
    }
   ],
   "source": [
    "# input:10\n",
    "#output:10 9 8 7 6 5 4 3 2 1 \n",
    "d = int(input(\"enter a value =\"))\n",
    "i=1\n",
    "while d>=i:\n",
    "    print(d,end = \" \")\n",
    "    d=d-1\n",
    "    "
   ]
  },
  {
   "cell_type": "code",
   "execution_count": 7,
   "id": "2eeb9187",
   "metadata": {},
   "outputs": [
    {
     "name": "stdout",
     "output_type": "stream",
     "text": [
      "enter the number :65321\n",
      "5\n"
     ]
    }
   ],
   "source": [
    "#count no of digits\n",
    "f=int(input(\"enter the number :\"))\n",
    "c = 0\n",
    "while f!=0:\n",
    "    f =f//10\n",
    "    c =c+1\n",
    "print(c)\n"
   ]
  },
  {
   "cell_type": "markdown",
   "id": "25b5a52a",
   "metadata": {},
   "source": [
    "# break statement\n",
    "- We can stop loop the even while is true condition is true\n"
   ]
  },
  {
   "cell_type": "code",
   "execution_count": 13,
   "id": "b15e7662",
   "metadata": {},
   "outputs": [
    {
     "name": "stdout",
     "output_type": "stream",
     "text": [
      "1 2 3 4 "
     ]
    }
   ],
   "source": [
    "r=1\n",
    "while r<=5:\n",
    "    print(r,end=\" \")\n",
    "    if r==4:\n",
    "        break\n",
    "    r +=1\n"
   ]
  },
  {
   "cell_type": "code",
   "execution_count": 18,
   "id": "35d6845a",
   "metadata": {},
   "outputs": [
    {
     "name": "stdout",
     "output_type": "stream",
     "text": [
      "1 2 3 5 "
     ]
    }
   ],
   "source": [
    "#continue statement\n",
    "r=0\n",
    "while r<5:\n",
    "    r +=1\n",
    "    if r==4:\n",
    "        continue\n",
    "    print(r,end=\" \")\n"
   ]
  },
  {
   "cell_type": "markdown",
   "id": "0ca95e86",
   "metadata": {},
   "source": [
    "# For loop Statement\n",
    "Syntax\n"
   ]
  },
  {
   "cell_type": "code",
   "execution_count": 19,
   "id": "e00a7cbb",
   "metadata": {},
   "outputs": [
    {
     "ename": "SyntaxError",
     "evalue": "invalid syntax (<ipython-input-19-cea7870758ac>, line 1)",
     "output_type": "error",
     "traceback": [
      "\u001b[1;36m  File \u001b[1;32m\"<ipython-input-19-cea7870758ac>\"\u001b[1;36m, line \u001b[1;32m1\u001b[0m\n\u001b[1;33m    for<local variable> in < object name>\u001b[0m\n\u001b[1;37m       ^\u001b[0m\n\u001b[1;31mSyntaxError\u001b[0m\u001b[1;31m:\u001b[0m invalid syntax\n"
     ]
    }
   ],
   "source": [
    "for<local variable> in < object name>\n",
    " "
   ]
  },
  {
   "cell_type": "code",
   "execution_count": 20,
   "id": "622e7ca2",
   "metadata": {},
   "outputs": [
    {
     "name": "stdout",
     "output_type": "stream",
     "text": [
      "0 1 2 3 4 5 6 "
     ]
    }
   ],
   "source": [
    "for i in range(7):\n",
    "    print(i,end=\" \")\n",
    "    "
   ]
  },
  {
   "cell_type": "code",
   "execution_count": 21,
   "id": "5e930432",
   "metadata": {},
   "outputs": [
    {
     "name": "stdout",
     "output_type": "stream",
     "text": [
      "1 2 3 4 5 6 "
     ]
    }
   ],
   "source": [
    "for i in range(1,7):\n",
    "    print(i,end=\" \")\n",
    "    "
   ]
  },
  {
   "cell_type": "code",
   "execution_count": 22,
   "id": "75c98974",
   "metadata": {},
   "outputs": [
    {
     "name": "stdout",
     "output_type": "stream",
     "text": [
      "2 3 4 5 6 "
     ]
    }
   ],
   "source": [
    "for i in range(2,7):# 2= start,7= end\n",
    "    print(i,end=\" \")\n",
    "    "
   ]
  },
  {
   "cell_type": "code",
   "execution_count": 23,
   "id": "6a9f5aaa",
   "metadata": {},
   "outputs": [
    {
     "name": "stdout",
     "output_type": "stream",
     "text": [
      "1 3 5 7 9 "
     ]
    }
   ],
   "source": [
    "#odd numbers\n",
    "for i in range(1,10,2):# 1\n",
    "    print(i,end=\" \")"
   ]
  },
  {
   "cell_type": "code",
   "execution_count": 25,
   "id": "bf4c8905",
   "metadata": {},
   "outputs": [
    {
     "name": "stdout",
     "output_type": "stream",
     "text": [
      "1 2 3 4 5 6 7 8 9 10 "
     ]
    }
   ],
   "source": [
    "# print 1 2 3 ----- 10\n",
    "for i in range(1,11):\n",
    "    print(i,end=\" \")"
   ]
  },
  {
   "cell_type": "code",
   "execution_count": 30,
   "id": "bada5ac3",
   "metadata": {},
   "outputs": [
    {
     "name": "stdout",
     "output_type": "stream",
     "text": [
      "10 9 8 7 6 5 4 3 2 1 "
     ]
    }
   ],
   "source": [
    "# print 10 9 8 --- 1\n",
    "for i in range(10,0,-1):# for reverse we need to give the step value as negitve value \n",
    "    print(i,end=\" \")"
   ]
  },
  {
   "cell_type": "code",
   "execution_count": 42,
   "id": "e373365d",
   "metadata": {},
   "outputs": [
    {
     "name": "stdout",
     "output_type": "stream",
     "text": [
      "0 15 30 45 60 75 90 "
     ]
    }
   ],
   "source": [
    "#from 0 - 100 multiples of 3 and 5\n",
    "for i in range(0,100):\n",
    "    if i%3==0 and i%5==0:\n",
    "        print(i,end=\" \")\n",
    "    "
   ]
  },
  {
   "cell_type": "code",
   "execution_count": 56,
   "id": "3e2832c2",
   "metadata": {},
   "outputs": [
    {
     "name": "stdout",
     "output_type": "stream",
     "text": [
      "5050\n"
     ]
    }
   ],
   "source": [
    "# sum of 0-100 all numbers\n",
    "sum=0\n",
    "for i in range(0,101):\n",
    "    sum=sum+i\n",
    "print(sum)"
   ]
  },
  {
   "cell_type": "code",
   "execution_count": 59,
   "id": "f438e294",
   "metadata": {},
   "outputs": [
    {
     "name": "stdout",
     "output_type": "stream",
     "text": [
      "enter a value100\n",
      "5050\n"
     ]
    }
   ],
   "source": [
    "n=int(input(\"enter a value\"))\n",
    "s=0\n",
    "for i in range(1,n+1,1):\n",
    "    s=s+i\n",
    "print(s)"
   ]
  },
  {
   "cell_type": "code",
   "execution_count": null,
   "id": "b1440485",
   "metadata": {},
   "outputs": [],
   "source": []
  }
 ],
 "metadata": {
  "kernelspec": {
   "display_name": "Python 3",
   "language": "python",
   "name": "python3"
  },
  "language_info": {
   "codemirror_mode": {
    "name": "ipython",
    "version": 3
   },
   "file_extension": ".py",
   "mimetype": "text/x-python",
   "name": "python",
   "nbconvert_exporter": "python",
   "pygments_lexer": "ipython3",
   "version": "3.8.8"
  }
 },
 "nbformat": 4,
 "nbformat_minor": 5
}
