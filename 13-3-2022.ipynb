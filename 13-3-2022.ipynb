{
 "cells": [
  {
   "cell_type": "code",
   "execution_count": 5,
   "id": "50d26fe9",
   "metadata": {},
   "outputs": [
    {
     "name": "stdout",
     "output_type": "stream",
     "text": [
      "dharan.vamsi \n",
      "sandhya\n",
      "dharan.vamsi \n",
      "sandhya\n",
      "dharan.vamsi \n",
      "sandhya\n",
      "dharan.vamsi \n",
      "sandhya\n",
      "\n",
      "dharan.vamsi \n",
      "sandhya\n",
      "dharan.vamsi \n",
      "sandhya\n",
      "\n",
      "dharan.vamsi \n",
      "sandhya\n",
      "dharan.vamsi \n",
      "sandhya\n",
      "\n",
      "dharan.vamsi \n",
      "sandhya\n",
      "dharan.vamsi \n",
      "sandhya\n",
      "\n",
      "\n"
     ]
    }
   ],
   "source": [
    "# Read a file\n",
    "def readfile(filename):\n",
    "    with open(filename,\"r\")as f:\n",
    "        if f.mode == \"r\":\n",
    "            x=f.read()\n",
    "            print(x)\n",
    "readfile(\"vamsi.txt\")"
   ]
  },
  {
   "cell_type": "code",
   "execution_count": 6,
   "id": "aa77a20e",
   "metadata": {},
   "outputs": [
    {
     "data": {
      "text/plain": [
       "20"
      ]
     },
     "execution_count": 6,
     "metadata": {},
     "output_type": "execute_result"
    }
   ],
   "source": [
    "#wordcount\n",
    "def wordcount(filename):\n",
    "    with open(filename) as f:\n",
    "        if f.mode ==\"r\":\n",
    "            x=f.read()\n",
    "            l=x.split()\n",
    "        return len(l)\n",
    "wordcount(\"vamsi.txt\")"
   ]
  },
  {
   "cell_type": "code",
   "execution_count": 11,
   "id": "faa720f7",
   "metadata": {},
   "outputs": [
    {
     "data": {
      "text/plain": [
       "10"
      ]
     },
     "execution_count": 11,
     "metadata": {},
     "output_type": "execute_result"
    }
   ],
   "source": [
    "# SPECIFIC WORD COUNT\n",
    "def specific(filename,word):\n",
    "    with open(filename) as f:\n",
    "        if f.mode ==\"r\":\n",
    "            x=f.read()\n",
    "            l=x.split()\n",
    "        return l.count(word)\n",
    "specific(\"vamsi.txt\",\"sandhya\")\n",
    "        "
   ]
  },
  {
   "cell_type": "code",
   "execution_count": 12,
   "id": "665feb5b",
   "metadata": {},
   "outputs": [
    {
     "data": {
      "text/plain": [
       "224"
      ]
     },
     "execution_count": 12,
     "metadata": {},
     "output_type": "execute_result"
    }
   ],
   "source": [
    "#COUNT CHARACTER\n",
    "def char(filename):\n",
    "    with open(filename,\"r\")as f:\n",
    "        if f.mode==\"r\":\n",
    "            x=f.read()\n",
    "            l=list(x)\n",
    "        return len(l)\n",
    "char(\"vamsi.txt\")"
   ]
  },
  {
   "cell_type": "code",
   "execution_count": 13,
   "id": "1f1152bc",
   "metadata": {},
   "outputs": [
    {
     "data": {
      "text/plain": [
       "25"
      ]
     },
     "execution_count": 13,
     "metadata": {},
     "output_type": "execute_result"
    }
   ],
   "source": [
    "#count lines\n",
    "def countline(filename):\n",
    "    with open(filename,\"r\")as f:\n",
    "        if f.mode==\"r\":\n",
    "            x=f.read()\n",
    "            l=x.split(\"\\n\")\n",
    "        return len(l)\n",
    "countline(\"vamsi.txt\")\n",
    "     "
   ]
  },
  {
   "cell_type": "markdown",
   "id": "7db5bddd",
   "metadata": {},
   "source": [
    "# string slicing"
   ]
  },
  {
   "cell_type": "code",
   "execution_count": 1,
   "id": "84858534",
   "metadata": {},
   "outputs": [
    {
     "name": "stdout",
     "output_type": "stream",
     "text": [
      "python programming <class 'str'>\n"
     ]
    }
   ],
   "source": [
    "s=\"python programming\"\n",
    "print(s,type(s))"
   ]
  },
  {
   "cell_type": "code",
   "execution_count": 2,
   "id": "c61935f2",
   "metadata": {},
   "outputs": [
    {
     "name": "stdout",
     "output_type": "stream",
     "text": [
      "p\n",
      "g\n",
      "python \n",
      "ython pr\n"
     ]
    }
   ],
   "source": [
    "# Access\n",
    "print(s[0])\n",
    "print(s[-1])\n",
    "print(s[0:7])\n",
    "print(s[1:9])"
   ]
  },
  {
   "cell_type": "code",
   "execution_count": 3,
   "id": "ce3dd2f5",
   "metadata": {},
   "outputs": [
    {
     "name": "stdout",
     "output_type": "stream",
     "text": [
      "ython programmin\n",
      "thon programmi\n"
     ]
    }
   ],
   "source": [
    "# want to print string\n",
    "print(s[1:-1])\n",
    "print(s[2:-2])"
   ]
  },
  {
   "cell_type": "code",
   "execution_count": 7,
   "id": "1dfff146",
   "metadata": {},
   "outputs": [
    {
     "name": "stdout",
     "output_type": "stream",
     "text": [
      "gnimmargorp nohtyp\n",
      "gnimmargorp nohtyp\n"
     ]
    }
   ],
   "source": [
    "#REVERSE \n",
    "s=\"python programming\"\n",
    "print(s[::-1])\n",
    "print(s[-1::-1])"
   ]
  },
  {
   "cell_type": "code",
   "execution_count": 9,
   "id": "7fc44ab7",
   "metadata": {},
   "outputs": [
    {
     "data": {
      "text/plain": [
       "'gnimmargorp nohtyp'"
      ]
     },
     "execution_count": 9,
     "metadata": {},
     "output_type": "execute_result"
    }
   ],
   "source": [
    "# REVERSE\n",
    "def reverse(n):\n",
    "    return n[::-1]\n",
    "reverse(\"python programming\")"
   ]
  },
  {
   "cell_type": "markdown",
   "id": "d59b17fa",
   "metadata": {},
   "source": [
    "# ASCII SYSTEEM\n",
    "- 65-90 -(A-Z)\n",
    "- 97-122 (a-z)\n",
    "- 0-9 (48-57)\n",
    "- space (32)"
   ]
  },
  {
   "cell_type": "code",
   "execution_count": 12,
   "id": "f9125499",
   "metadata": {},
   "outputs": [
    {
     "name": "stdout",
     "output_type": "stream",
     "text": [
      "e 101 A 65\n"
     ]
    }
   ],
   "source": [
    "s=\"e\"\n",
    "y=\"A\"\n",
    "print(s,ord(s),y,ord(y))"
   ]
  },
  {
   "cell_type": "code",
   "execution_count": 14,
   "id": "06fc353c",
   "metadata": {},
   "outputs": [
    {
     "name": "stdout",
     "output_type": "stream",
     "text": [
      "A B C D E F G H I J K L M N O P Q R S T U V W X Y Z "
     ]
    }
   ],
   "source": [
    "# A-Z\n",
    "for i in range(65,91):\n",
    "    print(chr(i),end=\" \")"
   ]
  },
  {
   "cell_type": "code",
   "execution_count": 15,
   "id": "62d3f422",
   "metadata": {},
   "outputs": [
    {
     "name": "stdout",
     "output_type": "stream",
     "text": [
      "a b c d e f g h i j k l m n o p q r s t u v w x y "
     ]
    }
   ],
   "source": [
    "# a-z\n",
    "for i in range(97,122):\n",
    "    print(chr(i),end=\" \")"
   ]
  },
  {
   "cell_type": "code",
   "execution_count": 19,
   "id": "d775c436",
   "metadata": {},
   "outputs": [
    {
     "name": "stdout",
     "output_type": "stream",
     "text": [
      "0 1 2 3 4 5 6 7 8 9 "
     ]
    }
   ],
   "source": [
    "#0-9\n",
    "for i in range(48,58):\n",
    "    print(chr(i),end=\" \")"
   ]
  },
  {
   "cell_type": "code",
   "execution_count": 22,
   "id": "ba1a3a71",
   "metadata": {},
   "outputs": [
    {
     "data": {
      "text/plain": [
       "True"
      ]
     },
     "execution_count": 22,
     "metadata": {},
     "output_type": "execute_result"
    }
   ],
   "source": [
    "# check palindrone\n",
    "def palindrome(s):\n",
    "    if s==s[::-1]:\n",
    "        return True\n",
    "    return False\n",
    "palindrome(\"eye\")"
   ]
  },
  {
   "cell_type": "code",
   "execution_count": 23,
   "id": "4e9385ac",
   "metadata": {},
   "outputs": [
    {
     "data": {
      "text/plain": [
       "False"
      ]
     },
     "execution_count": 23,
     "metadata": {},
     "output_type": "execute_result"
    }
   ],
   "source": [
    "palindrome(\"vamsi\")"
   ]
  },
  {
   "cell_type": "code",
   "execution_count": 25,
   "id": "52a1d464",
   "metadata": {},
   "outputs": [
    {
     "data": {
      "text/plain": [
       "True"
      ]
     },
     "execution_count": 25,
     "metadata": {},
     "output_type": "execute_result"
    }
   ],
   "source": [
    "palindrome(\"malayalam\")"
   ]
  },
  {
   "cell_type": "code",
   "execution_count": 27,
   "id": "9e389524",
   "metadata": {},
   "outputs": [
    {
     "data": {
      "text/plain": [
       "True"
      ]
     },
     "execution_count": 27,
     "metadata": {},
     "output_type": "execute_result"
    }
   ],
   "source": [
    "palindrome(\"22-2-22\")"
   ]
  },
  {
   "cell_type": "code",
   "execution_count": 29,
   "id": "b8a144cf",
   "metadata": {},
   "outputs": [
    {
     "name": "stdout",
     "output_type": "stream",
     "text": [
      "P R O G R "
     ]
    }
   ],
   "source": [
    "# print upper case charqacter i given string\n",
    "def upper(x):\n",
    "    for i in range (len(x)):\n",
    "        if ord(x[i])>65 and ord(x[i])<91:\n",
    "            print(x[i],end =\" \")\n",
    "upper(\"Python pROGRam\")\n",
    "    "
   ]
  },
  {
   "cell_type": "code",
   "execution_count": 30,
   "id": "11c62aa3",
   "metadata": {},
   "outputs": [
    {
     "name": "stdout",
     "output_type": "stream",
     "text": [
      "y t h o n p m "
     ]
    }
   ],
   "source": [
    "# print lower case charqacter in given string\n",
    "def lower(x):\n",
    "    for i in range (len(x)):\n",
    "        if ord(x[i])>97 and ord(x[i])<123:\n",
    "            print(x[i],end =\" \")\n",
    "lower(\"Python pROGRam\")\n",
    "    "
   ]
  },
  {
   "cell_type": "code",
   "execution_count": 31,
   "id": "8c73f1b1",
   "metadata": {},
   "outputs": [
    {
     "name": "stdout",
     "output_type": "stream",
     "text": [
      "9 5 9 5 6 8 9 5 6 6 9 6 1 3 2 1 3 2 5 "
     ]
    }
   ],
   "source": [
    "# print numbers  in given string\n",
    "def digital(x):\n",
    "    for i in range (len(x)):\n",
    "        if ord(x[i])>48 and ord(x[i])<58:\n",
    "            print(x[i],end =\" \")\n",
    "digital(\"Python  9595689 5+6696 pROGRam 132 1325 \")\n",
    "    "
   ]
  },
  {
   "cell_type": "code",
   "execution_count": 9,
   "id": "9a087c36",
   "metadata": {},
   "outputs": [
    {
     "data": {
      "text/plain": [
       "' pYTHON'"
      ]
     },
     "execution_count": 9,
     "metadata": {},
     "output_type": "execute_result"
    }
   ],
   "source": [
    "# input:PYTHON\n",
    "#OUTPUT :python() caps letters to small \n",
    "def upperlower(x):\n",
    "    s1=\" \"\n",
    "    for i in range(len(x)):\n",
    "        if(ord(x[i])>65 and ord(x[i])<91):\n",
    "            s1 += chr(ord(x[i])+32) \n",
    "        elif(ord(x[i])>97 and ord(x[i])<123):\n",
    "            s1 += chr(ord(x[i])-32)\n",
    "    return s1\n",
    "upperlower(\"Python\")\n",
    "    "
   ]
  },
  {
   "cell_type": "code",
   "execution_count": 12,
   "id": "1d107489",
   "metadata": {},
   "outputs": [
    {
     "data": {
      "text/plain": [
       "10"
      ]
     },
     "execution_count": 12,
     "metadata": {},
     "output_type": "execute_result"
    }
   ],
   "source": [
    "# input p1n2g3f4\n",
    "# output 10\n",
    "def sap(x):\n",
    "    sap=0\n",
    "    for i in range (len(x)):\n",
    "        if ord(x[i])>48 and ord(x[i])<58:\n",
    "            sap += ord(x[i])-48\n",
    "    return sap\n",
    "sap(\"p1n2g3f4\")"
   ]
  },
  {
   "cell_type": "code",
   "execution_count": null,
   "id": "f590f262",
   "metadata": {},
   "outputs": [],
   "source": []
  }
 ],
 "metadata": {
  "kernelspec": {
   "display_name": "Python 3 (ipykernel)",
   "language": "python",
   "name": "python3"
  },
  "language_info": {
   "codemirror_mode": {
    "name": "ipython",
    "version": 3
   },
   "file_extension": ".py",
   "mimetype": "text/x-python",
   "name": "python",
   "nbconvert_exporter": "python",
   "pygments_lexer": "ipython3",
   "version": "3.9.7"
  }
 },
 "nbformat": 4,
 "nbformat_minor": 5
}
