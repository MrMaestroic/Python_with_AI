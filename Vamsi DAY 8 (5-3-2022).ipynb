{
 "cells": [
  {
   "cell_type": "markdown",
   "id": "dae7a818",
   "metadata": {},
   "source": [
    "# Data Structures\n"
   ]
  },
  {
   "cell_type": "code",
   "execution_count": 1,
   "id": "f8d53d37",
   "metadata": {},
   "outputs": [
    {
     "name": "stdout",
     "output_type": "stream",
     "text": [
      "[1, 2, 3, 4, 5, 6, 7]\n"
     ]
    }
   ],
   "source": [
    "l=[1,2,3,4,5,6,7]\n",
    "print(l)"
   ]
  },
  {
   "cell_type": "code",
   "execution_count": 5,
   "id": "4a55238c",
   "metadata": {},
   "outputs": [
    {
     "name": "stdout",
     "output_type": "stream",
     "text": [
      "1\n",
      "1\n"
     ]
    }
   ],
   "source": [
    "# Access 1st element\n",
    "print(l[0])\n",
    "print(l[-7])"
   ]
  },
  {
   "cell_type": "code",
   "execution_count": 6,
   "id": "1cf6804e",
   "metadata": {},
   "outputs": [
    {
     "name": "stdout",
     "output_type": "stream",
     "text": [
      "[1, 2, 3, 4, 5]\n",
      "[3, 4, 5, 6, 7]\n"
     ]
    }
   ],
   "source": [
    "# Access the range of elements\n",
    "print(l[0:5])\n",
    "print(l[2:7])"
   ]
  },
  {
   "cell_type": "markdown",
   "id": "952b63ea",
   "metadata": {},
   "source": [
    "# Updating\n"
   ]
  },
  {
   "cell_type": "code",
   "execution_count": 7,
   "id": "2e2c1207",
   "metadata": {},
   "outputs": [
    {
     "name": "stdout",
     "output_type": "stream",
     "text": [
      "[1, 2, 3, 4, 5, 6, 7]\n",
      "[1, 2, 15, 4, 5, 6, 7]\n"
     ]
    }
   ],
   "source": [
    "l=[1,2,3,4,5,6,7]\n",
    "print(l)\n",
    "l[2]=15\n",
    "print(l)"
   ]
  },
  {
   "cell_type": "code",
   "execution_count": 15,
   "id": "25460270",
   "metadata": {},
   "outputs": [
    {
     "name": "stdout",
     "output_type": "stream",
     "text": [
      "[1, 2, 3, 4, 5, 6, 7]\n",
      "[16, 17, 18, 19, 4, 5, 6, 7]\n",
      "[16, 17, 18, 19]\n"
     ]
    }
   ],
   "source": [
    "# update range of elements\n",
    "l=[1,2,3,4,5,6,7]\n",
    "print(l)\n",
    "l[0:3]=[16,17,18,19]\n",
    "print(l)\n",
    "print(l[0:4])\n"
   ]
  },
  {
   "cell_type": "markdown",
   "id": "76a05727",
   "metadata": {},
   "source": [
    "# METHODS\n",
    "- Insert \n",
    "- Append\n",
    "- Extend\n",
    "- Remove\n",
    "- Pop\n",
    "- Del(Keyword)\n",
    "- Clear\n",
    "- COPY\n",
    "- Sort\n",
    "- Reverse\n",
    "- "
   ]
  },
  {
   "cell_type": "code",
   "execution_count": 11,
   "id": "e53f5119",
   "metadata": {},
   "outputs": [
    {
     "name": "stdout",
     "output_type": "stream",
     "text": [
      "[1, 2, 3, 'Vamsi', 4, 5, 6, 7]\n"
     ]
    }
   ],
   "source": [
    "l=[1,2,3,4,5,6,7] #index is used to assign the values directly at the place where we want to add values without any syntax\n",
    "l.insert(3,\"Vamsi\")\n",
    "print(l)"
   ]
  },
  {
   "cell_type": "code",
   "execution_count": 14,
   "id": "42e580c1",
   "metadata": {},
   "outputs": [
    {
     "name": "stdout",
     "output_type": "stream",
     "text": [
      "[1, 2, 3, 4, 5, 6, 7, 45]\n",
      "[1, 2, 3, 4, 5, 6, 7, 45, 2356]\n"
     ]
    }
   ],
   "source": [
    "# append (append is used to assign the value at the last index of the elements)\n",
    "l=[1,2,3,4,5,6,7]\n",
    "l.append(45)\n",
    "print(l)\n",
    "l.append(2356)\n",
    "print(l)"
   ]
  },
  {
   "cell_type": "code",
   "execution_count": 16,
   "id": "29a20df8",
   "metadata": {},
   "outputs": [
    {
     "name": "stdout",
     "output_type": "stream",
     "text": [
      "[1, 2, 3, 4, 5, 6, 7, 11, 12, 13, 14] [11, 12, 13, 14, 1, 2, 3, 4, 5, 6, 7, 11, 12, 13, 14]\n"
     ]
    }
   ],
   "source": [
    "#Extend (Similar to the append but append is for single element Extend is for group)\n",
    "l=[1,2,3,4,5,6,7]\n",
    "l1=[11,12,13,14]\n",
    "l.extend(l1)\n",
    "l1.extend(l)\n",
    "print(l,l1)"
   ]
  },
  {
   "cell_type": "code",
   "execution_count": 21,
   "id": "cb63279a",
   "metadata": {},
   "outputs": [
    {
     "name": "stdout",
     "output_type": "stream",
     "text": [
      "[1, 2, 3, 4, 6, 7]\n"
     ]
    }
   ],
   "source": [
    "#Remove the elements\n",
    "p=[1,2,3,4,5,6,7]\n",
    "p.remove(5)\n",
    "print(p)"
   ]
  },
  {
   "cell_type": "code",
   "execution_count": 22,
   "id": "9cc43024",
   "metadata": {},
   "outputs": [
    {
     "data": {
      "text/plain": [
       "[1, 2, 3, 4, 5, 7]"
      ]
     },
     "execution_count": 22,
     "metadata": {},
     "output_type": "execute_result"
    }
   ],
   "source": [
    "#[Pop]\n",
    "l=[1,2,3,4,5,6,7]\n",
    "l.pop(5)\n",
    "l"
   ]
  },
  {
   "cell_type": "code",
   "execution_count": 23,
   "id": "d06c7fbd",
   "metadata": {},
   "outputs": [
    {
     "name": "stdout",
     "output_type": "stream",
     "text": [
      "[1, 3, 4, 5, 6, 7]\n",
      "[1, 5, 6, 7]\n"
     ]
    }
   ],
   "source": [
    "#Del keyword\n",
    "l=[1,2,3,4,5,6,7]\n",
    "del l[1]\n",
    "print(l)\n",
    "del l[1:3]\n",
    "print(l)"
   ]
  },
  {
   "cell_type": "code",
   "execution_count": 25,
   "id": "827f6c22",
   "metadata": {},
   "outputs": [
    {
     "data": {
      "text/plain": [
       "[]"
      ]
     },
     "execution_count": 25,
     "metadata": {},
     "output_type": "execute_result"
    }
   ],
   "source": [
    "#Clear \n",
    "l=[1,2,3,4,5,6,7]\n",
    "l.clear()\n",
    "l"
   ]
  },
  {
   "cell_type": "code",
   "execution_count": 27,
   "id": "be3a7ac4",
   "metadata": {},
   "outputs": [
    {
     "data": {
      "text/plain": [
       "[2, 2, 3, 4, 5, 6, 42, 45, 85, 89, 126, 546, 25854, 85546]"
      ]
     },
     "execution_count": 27,
     "metadata": {},
     "output_type": "execute_result"
    }
   ],
   "source": [
    "#Sorting\n",
    "l=[6,3,2,5,85,45,126,85546,89,546,2,42,4,25854]\n",
    "l.sort()\n",
    "l\n"
   ]
  },
  {
   "cell_type": "code",
   "execution_count": 32,
   "id": "1c5c4dd5",
   "metadata": {},
   "outputs": [
    {
     "data": {
      "text/plain": [
       "[25854, 4, 42, 2, 546, 89, 85546, 126, 45, 85, 5, 2, 3, 6]"
      ]
     },
     "execution_count": 32,
     "metadata": {},
     "output_type": "execute_result"
    }
   ],
   "source": [
    "#Reverse\n",
    "l=[6,3,2,5,85,45,126,85546,89,546,2,42,4,25854]\n",
    "l.reverse()\n",
    "l\n"
   ]
  },
  {
   "cell_type": "code",
   "execution_count": 33,
   "id": "14e3b485",
   "metadata": {},
   "outputs": [
    {
     "data": {
      "text/plain": [
       "[6, 3, 2, 5, 85, 45, 126, 85546, 89, 546, 2, 42, 4, 25854]"
      ]
     },
     "execution_count": 33,
     "metadata": {},
     "output_type": "execute_result"
    }
   ],
   "source": [
    "# Copy (Copies the element)\n",
    "l=[6,3,2,5,85,45,126,85546,89,546,2,42,4,25854]\n",
    "l1=l.copy()\n",
    "l1\n"
   ]
  },
  {
   "cell_type": "code",
   "execution_count": 35,
   "id": "a935d429",
   "metadata": {},
   "outputs": [
    {
     "data": {
      "text/plain": [
       "6"
      ]
     },
     "execution_count": 35,
     "metadata": {},
     "output_type": "execute_result"
    }
   ],
   "source": [
    "# Count\n",
    "l=[1,2,3,4,5,6,7,2,3,2,6,1,2,2,5,5,1,5,1,2]\n",
    "l1=l.count(2)\n",
    "l1\n",
    "\n"
   ]
  },
  {
   "cell_type": "code",
   "execution_count": 36,
   "id": "882f15e4",
   "metadata": {},
   "outputs": [
    {
     "data": {
      "text/plain": [
       "4"
      ]
     },
     "execution_count": 36,
     "metadata": {},
     "output_type": "execute_result"
    }
   ],
   "source": [
    "# index\n",
    "l=[1,2,3,4,5,6,7]\n",
    "l1=l.index(5)\n",
    "l1"
   ]
  },
  {
   "cell_type": "code",
   "execution_count": 39,
   "id": "0b397e1d",
   "metadata": {},
   "outputs": [
    {
     "name": "stdout",
     "output_type": "stream",
     "text": [
      "9\n",
      "9\n",
      "1\n",
      "45\n",
      "5.0\n"
     ]
    }
   ],
   "source": [
    "# some of functions\n",
    "l=[1,2,3,4,5,6,7,8,9]\n",
    "print(len(l)) # length of the array\n",
    "print(max(l)) # max no of array\n",
    "print(min(l)) # min no of array\n",
    "print(sum(l)) # sum of total elements in array\n",
    "print(sum(l)/len(l))"
   ]
  },
  {
   "cell_type": "markdown",
   "id": "efa0ccd1",
   "metadata": {},
   "source": [
    "# Tuple\n",
    "- Tuple cannot be changed \n",
    "- it is used only for accessing "
   ]
  },
  {
   "cell_type": "code",
   "execution_count": 42,
   "id": "87468d63",
   "metadata": {},
   "outputs": [
    {
     "name": "stdout",
     "output_type": "stream",
     "text": [
      "(1, 2, 3, 4, 5, 6, 7)\n",
      "3\n",
      "(3, 4, 5, 6)\n"
     ]
    }
   ],
   "source": [
    "t=(1,2,3,4,5,6,7)\n",
    "print(t)\n",
    "#Access\n",
    "print(t[2])\n",
    "print(t[2:6])"
   ]
  },
  {
   "cell_type": "code",
   "execution_count": 43,
   "id": "331e099d",
   "metadata": {},
   "outputs": [
    {
     "name": "stdout",
     "output_type": "stream",
     "text": [
      "[1, 2, 3, 4, 5, 6, 7]\n",
      "(1, 2, 3, 4, 5, 25, 7)\n"
     ]
    }
   ],
   "source": [
    "# Update\n",
    "t=(1,2,3,4,5,6,7)\n",
    "t1=list(t)\n",
    "print(t1)\n",
    "t1[5]=25\n",
    "t=tuple(t1)\n",
    "print(t)"
   ]
  },
  {
   "cell_type": "code",
   "execution_count": 45,
   "id": "1298c2e8",
   "metadata": {},
   "outputs": [
    {
     "name": "stdout",
     "output_type": "stream",
     "text": [
      "[1, 2, 3, 4, 5, 6, 7]\n",
      "(1, 2, 3, 4, 5, 6, 7, 25)\n"
     ]
    }
   ],
   "source": [
    "# append\n",
    "t=(1,2,3,4,5,6,7)\n",
    "t1=list(t)\n",
    "print(t1)\n",
    "t1.append(25)\n",
    "t=tuple(t1)\n",
    "print(t)"
   ]
  },
  {
   "cell_type": "code",
   "execution_count": null,
   "id": "e1b7c9ca",
   "metadata": {},
   "outputs": [],
   "source": [
    "# extend\n",
    "t=(1,2,3,4,5,6,7)\n",
    "t1=list(t)\n",
    "print(t1)\n",
    "l=[13,14,15,16]\n",
    "t1=t1.extend(l)\n",
    "t=tuple(t1)\n",
    "print(t)\n"
   ]
  },
  {
   "cell_type": "code",
   "execution_count": 8,
   "id": "7948dbc1",
   "metadata": {},
   "outputs": [
    {
     "name": "stdout",
     "output_type": "stream",
     "text": [
      "[1, 2, 3, 4, 5, 6, 7]\n",
      "(1, 2, 3, 4, 5, 6, 7, 13, 14, 15, 16)\n",
      "(13, 14, 15, 16)\n"
     ]
    }
   ],
   "source": [
    "# extend\n",
    "t=(1,2,3,4,5,6,7)\n",
    "t1=list(t)\n",
    "print(t1)\n",
    "l=(13,14,15,16)\n",
    "l1=list(l)\n",
    "t1.extend(l1)\n",
    "t=tuple(t1)\n",
    "l=tuple(l1)\n",
    "print(t)\n",
    "print(l)"
   ]
  },
  {
   "cell_type": "code",
   "execution_count": 5,
   "id": "1ac240d8",
   "metadata": {},
   "outputs": [
    {
     "name": "stdout",
     "output_type": "stream",
     "text": [
      "(1, 2, 3, 4, 6, 7)\n"
     ]
    }
   ],
   "source": [
    "#remove\n",
    "t=(1,2,3,4,5,6,7)\n",
    "t1=list(t)\n",
    "t1.remove(5)\n",
    "t=tuple(t1)\n",
    "print(t)"
   ]
  },
  {
   "cell_type": "code",
   "execution_count": 9,
   "id": "3e8320e8",
   "metadata": {},
   "outputs": [
    {
     "name": "stdout",
     "output_type": "stream",
     "text": [
      "(1, 2, 3, 4, 5, 7)\n"
     ]
    }
   ],
   "source": [
    "#pop\n",
    "t=(1,2,3,4,5,6,7)\n",
    "t1=list(t)\n",
    "t1.pop(5)\n",
    "t=tuple(t1)\n",
    "print(t)"
   ]
  },
  {
   "cell_type": "code",
   "execution_count": 11,
   "id": "6c44d8a9",
   "metadata": {},
   "outputs": [
    {
     "name": "stdout",
     "output_type": "stream",
     "text": [
      "(1, 2, 3, 4, 5, 7)\n"
     ]
    }
   ],
   "source": [
    "#del\n",
    "t=(1,2,3,4,5,6,7)\n",
    "t1=list(t)\n",
    "del t1[5]\n",
    "t=tuple(t1)\n",
    "print(t)"
   ]
  },
  {
   "cell_type": "code",
   "execution_count": 12,
   "id": "f1d70f81",
   "metadata": {},
   "outputs": [
    {
     "name": "stdout",
     "output_type": "stream",
     "text": [
      "()\n"
     ]
    }
   ],
   "source": [
    "#clear\n",
    "t=(1,2,3,4,5,6,7)\n",
    "t1=list(t)\n",
    "t1.clear()\n",
    "t=tuple(t1)\n",
    "print(t)"
   ]
  },
  {
   "cell_type": "code",
   "execution_count": 13,
   "id": "a665d91e",
   "metadata": {},
   "outputs": [
    {
     "name": "stdout",
     "output_type": "stream",
     "text": [
      "(1, 3, 4, 5, 6, 7, 13, 25, 26, 45, 65, 256, 433)\n"
     ]
    }
   ],
   "source": [
    "#sort\n",
    "t=(1,3,4,25,65,45,26,13,433,256,5,6,7)\n",
    "t1=list(t)\n",
    "t1.sort()\n",
    "t=tuple(t1)\n",
    "print(t)"
   ]
  },
  {
   "cell_type": "code",
   "execution_count": 14,
   "id": "c3db8908",
   "metadata": {},
   "outputs": [
    {
     "name": "stdout",
     "output_type": "stream",
     "text": [
      "(7, 6, 5, 4, 3, 2, 1)\n"
     ]
    }
   ],
   "source": [
    "#reverse\n",
    "t=(1,2,3,4,5,6,7)\n",
    "t1=list(t)\n",
    "t1.reverse()\n",
    "t=tuple(t1)\n",
    "print(t)"
   ]
  },
  {
   "cell_type": "code",
   "execution_count": 15,
   "id": "69c09b71",
   "metadata": {},
   "outputs": [
    {
     "name": "stdout",
     "output_type": "stream",
     "text": [
      "(1, 2, 3, 4, 5, 6, 7)\n",
      "(1, 2, 3, 4, 5, 6, 7)\n"
     ]
    }
   ],
   "source": [
    "#copy\n",
    "t=(1,2,3,4,5,6,7)\n",
    "t1=list(t)\n",
    "t2=()\n",
    "t3=list(t2)\n",
    "t3=t1.copy()\n",
    "t=tuple(t1)\n",
    "t2=tuple(t3)\n",
    "print(t)\n",
    "print(t2)"
   ]
  },
  {
   "cell_type": "code",
   "execution_count": 17,
   "id": "d3ec154c",
   "metadata": {},
   "outputs": [
    {
     "name": "stdout",
     "output_type": "stream",
     "text": [
      "(1, 2, 3, 4, 4, 4, 4, 4, 4, 4, 4, 4, 4, 4, 4, 4, 4, 4, 4, 4, 4, 4, 4, 4, 4, 4, 4, 4, 4, 4, 4, 4, 4, 4, 4, 4, 4, 4, 4, 4, 4, 4, 4, 4, 45, 6, 7)\n",
      "41\n"
     ]
    }
   ],
   "source": [
    "#count\n",
    "t=(1,2,3,4,4,4,4,4,4,4,4,4,4,4,4,4,4,4,4,4,4,4,4,4,4,4,4,4,4,4,4,4,4,4,4,4,4,4,4,4,4,4,4,4,45,6,7)\n",
    "t1=list(t)\n",
    "t2=t1.count(4)\n",
    "t=tuple(t1)\n",
    "print(t)\n",
    "print(t2)"
   ]
  },
  {
   "cell_type": "code",
   "execution_count": 19,
   "id": "d097a265",
   "metadata": {},
   "outputs": [
    {
     "name": "stdout",
     "output_type": "stream",
     "text": [
      "(1, 2, 3, 4, 5, 6, 7) 4\n"
     ]
    }
   ],
   "source": [
    "#index\n",
    "t=(1,2,3,4,5,6,7)\n",
    "t1=list(t)\n",
    "t5=t1.index(5)\n",
    "t=tuple(t1)\n",
    "print(t,t5)"
   ]
  },
  {
   "cell_type": "code",
   "execution_count": null,
   "id": "fdea3b7f",
   "metadata": {},
   "outputs": [],
   "source": []
  }
 ],
 "metadata": {
  "kernelspec": {
   "display_name": "Python 3 (ipykernel)",
   "language": "python",
   "name": "python3"
  },
  "language_info": {
   "codemirror_mode": {
    "name": "ipython",
    "version": 3
   },
   "file_extension": ".py",
   "mimetype": "text/x-python",
   "name": "python",
   "nbconvert_exporter": "python",
   "pygments_lexer": "ipython3",
   "version": "3.9.7"
  }
 },
 "nbformat": 4,
 "nbformat_minor": 5
}
