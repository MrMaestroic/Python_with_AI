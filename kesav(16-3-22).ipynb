{
 "cells": [
  {
   "cell_type": "markdown",
   "id": "aa9122f7",
   "metadata": {},
   "source": [
    "# Object Oriented programming"
   ]
  },
  {
   "cell_type": "markdown",
   "id": "83af9ec3",
   "metadata": {},
   "source": [
    "Python supports different programming approach\n",
    "one of the popular approach to solve programs by creating objects and it is object oriented programming\n",
    "object has 2 characterstics \n",
    "- attributes\n",
    "- behaviour\n",
    "\n",
    "ex: parrot is an object that name,colour,age is an attributes\n",
    "    singing,dancing,talking is a behaviour\n",
    "    "
   ]
  },
  {
   "cell_type": "markdown",
   "id": "5e0fb56a",
   "metadata": {},
   "source": [
    " # syntax"
   ]
  },
  {
   "cell_type": "code",
   "execution_count": 2,
   "id": "e549ceb2",
   "metadata": {},
   "outputs": [],
   "source": [
    "class parrot:\n",
    "     pass # to avoid getting error"
   ]
  },
  {
   "cell_type": "code",
   "execution_count": 3,
   "id": "67be9951",
   "metadata": {},
   "outputs": [
    {
     "name": "stdout",
     "output_type": "stream",
     "text": [
      "10\n"
     ]
    }
   ],
   "source": [
    "class parrot:\n",
    "    x=10\n",
    "obj=parrot()\n",
    "print(obj.x)"
   ]
  },
  {
   "cell_type": "code",
   "execution_count": 5,
   "id": "e658aced",
   "metadata": {},
   "outputs": [
    {
     "name": "stdout",
     "output_type": "stream",
     "text": [
      "hello i am kesav\n"
     ]
    }
   ],
   "source": [
    "# create a method in class\n",
    "class cls:\n",
    "    #create a method\n",
    "    def test(self):\n",
    "        print(\"hello i am kesav\")\n",
    "obj1=cls()\n",
    "obj1.test()"
   ]
  },
  {
   "cell_type": "code",
   "execution_count": 8,
   "id": "50f5776d",
   "metadata": {},
   "outputs": [
    {
     "name": "stdout",
     "output_type": "stream",
     "text": [
      "my name is: kesav\n"
     ]
    }
   ],
   "source": [
    "class cls1:\n",
    "    def test1 (self,name):\n",
    "        print(\"my name is:\",name)\n",
    "obj2=cls1()\n",
    "obj2.test1(\"kesav\")"
   ]
  },
  {
   "cell_type": "code",
   "execution_count": 16,
   "id": "342a2379",
   "metadata": {},
   "outputs": [
    {
     "data": {
      "text/plain": [
       "10"
      ]
     },
     "execution_count": 16,
     "metadata": {},
     "output_type": "execute_result"
    }
   ],
   "source": [
    "#Adding 3 numbers\n",
    "class cls3:\n",
    "    def test3(self,a,b,c):\n",
    "        return(a+b+c)\n",
    "obj3=cls3()\n",
    "obj3.test3(2,5,3)\n"
   ]
  },
  {
   "cell_type": "code",
   "execution_count": 18,
   "id": "b074193f",
   "metadata": {},
   "outputs": [
    {
     "data": {
      "text/plain": [
       "('2', '5', '3')"
      ]
     },
     "execution_count": 18,
     "metadata": {},
     "output_type": "execute_result"
    }
   ],
   "source": [
    "class cls3:\n",
    "    def test3(self,a,b,c):\n",
    "        return(a,b,c)\n",
    "obj3=cls3()\n",
    "obj3.test3(\"2\",\"5\",\"3\")\n"
   ]
  },
  {
   "cell_type": "markdown",
   "id": "47efca82",
   "metadata": {},
   "source": [
    " # Constructor:"
   ]
  },
  {
   "cell_type": "code",
   "execution_count": 32,
   "id": "a2f3f4cf",
   "metadata": {},
   "outputs": [
    {
     "name": "stdout",
     "output_type": "stream",
     "text": [
      "Kesav\n",
      "20\n"
     ]
    }
   ],
   "source": [
    "class person:\n",
    "    def __init__(self,name,age):\n",
    "        self.name = name\n",
    "        self.age = age\n",
    "obj1= person(\"Kesav\",20)\n",
    "print(obj1.name)\n",
    "print(obj1.age)"
   ]
  },
  {
   "cell_type": "code",
   "execution_count": 34,
   "id": "5a13ed30",
   "metadata": {},
   "outputs": [
    {
     "name": "stdout",
     "output_type": "stream",
     "text": [
      "my name is:kesav\n",
      "kesav\n",
      "25\n"
     ]
    }
   ],
   "source": [
    "class person:\n",
    "    def __init__(self,name,age):\n",
    "        self.name = name\n",
    "        self.age = age\n",
    "    def mymethod(self):\n",
    "        print(\"my name is:\"+self.name)\n",
    "obj2= person(\"naveen\",20)\n",
    "obj2.age=25\n",
    "obj2.name=\"kesav\"\n",
    "obj2.mymethod()\n",
    "print(obj2.name)\n",
    "print(obj2.age)"
   ]
  },
  {
   "cell_type": "code",
   "execution_count": 47,
   "id": "b0dbd44f",
   "metadata": {},
   "outputs": [
    {
     "name": "stdout",
     "output_type": "stream",
     "text": [
      "my name is:kesav\n",
      "kesav\n"
     ]
    },
    {
     "ename": "AttributeError",
     "evalue": "'person' object has no attribute 'age'",
     "output_type": "error",
     "traceback": [
      "\u001b[1;31m---------------------------------------------------------------------------\u001b[0m",
      "\u001b[1;31mAttributeError\u001b[0m                            Traceback (most recent call last)",
      "\u001b[1;32m~\\AppData\\Local\\Temp/ipykernel_7388/3406047249.py\u001b[0m in \u001b[0;36m<module>\u001b[1;34m\u001b[0m\n\u001b[0;32m     11\u001b[0m \u001b[0mobj2\u001b[0m\u001b[1;33m.\u001b[0m\u001b[0mmymethod\u001b[0m\u001b[1;33m(\u001b[0m\u001b[1;33m)\u001b[0m\u001b[1;33m\u001b[0m\u001b[1;33m\u001b[0m\u001b[0m\n\u001b[0;32m     12\u001b[0m \u001b[0mprint\u001b[0m\u001b[1;33m(\u001b[0m\u001b[0mobj2\u001b[0m\u001b[1;33m.\u001b[0m\u001b[0mname\u001b[0m\u001b[1;33m)\u001b[0m\u001b[1;33m\u001b[0m\u001b[1;33m\u001b[0m\u001b[0m\n\u001b[1;32m---> 13\u001b[1;33m \u001b[0mprint\u001b[0m\u001b[1;33m(\u001b[0m\u001b[0mobj2\u001b[0m\u001b[1;33m.\u001b[0m\u001b[0mage\u001b[0m\u001b[1;33m)\u001b[0m\u001b[1;33m\u001b[0m\u001b[1;33m\u001b[0m\u001b[0m\n\u001b[0m",
      "\u001b[1;31mAttributeError\u001b[0m: 'person' object has no attribute 'age'"
     ]
    }
   ],
   "source": [
    "class person:\n",
    "    def __init__(self,name,age):\n",
    "        self.name = name\n",
    "        self.age = age\n",
    "    def mymethod(self):\n",
    "        print(\"my name is:\"+self.name)\n",
    "obj2= person(\"naveen\",20)\n",
    "obj2.age=22\n",
    "del obj2.age\n",
    "obj2.name=\"kesav\"\n",
    "obj2.mymethod()\n",
    "print(obj2.name)\n",
    "print(obj2.age)\n"
   ]
  },
  {
   "cell_type": "markdown",
   "id": "1f20942d",
   "metadata": {},
   "source": [
    "# inheritance:\n",
    " it is way of creating a new class ussing details excisting class without modifying it"
   ]
  },
  {
   "cell_type": "code",
   "execution_count": 53,
   "id": "b5e43deb",
   "metadata": {},
   "outputs": [
    {
     "name": "stdout",
     "output_type": "stream",
     "text": [
      "parrot is ready\n",
      "parrot\n",
      "fly fast\n"
     ]
    }
   ],
   "source": [
    "class Bird:# parent class\n",
    "    def __init__(self):\n",
    "        print(\"Bird is ready\")\n",
    "    def whozthis(self):\n",
    "        print(\"Bird\")\n",
    "    def fast(self):\n",
    "        print(\"fly fast\")\n",
    "class parrot(Bird):# child class\n",
    "    def __init__(self):\n",
    "        print(\"parrot is ready\")\n",
    "    def whozthis(self):\n",
    "        print(\"parrot\")\n",
    "    def run(self):\n",
    "        print(\"run faster\")\n",
    "obj=parrot()\n",
    "obj.whozthis()\n",
    "obj.fast()"
   ]
  },
  {
   "cell_type": "code",
   "execution_count": null,
   "id": "d74df7f2",
   "metadata": {},
   "outputs": [],
   "source": []
  }
 ],
 "metadata": {
  "kernelspec": {
   "display_name": "Python 3 (ipykernel)",
   "language": "python",
   "name": "python3"
  },
  "language_info": {
   "codemirror_mode": {
    "name": "ipython",
    "version": 3
   },
   "file_extension": ".py",
   "mimetype": "text/x-python",
   "name": "python",
   "nbconvert_exporter": "python",
   "pygments_lexer": "ipython3",
   "version": "3.9.7"
  }
 },
 "nbformat": 4,
 "nbformat_minor": 5
}
